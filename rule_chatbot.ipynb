{
 "cells": [
  {
   "cell_type": "code",
   "execution_count": 4,
   "id": "618018f8-8865-44a7-ab71-426ad9126b2b",
   "metadata": {},
   "outputs": [],
   "source": [
    "import re\n",
    "import random"
   ]
  },
  {
   "cell_type": "code",
   "execution_count": 5,
   "id": "1a3cc1a7-7d8d-49d9-813f-4ade97ddb6a5",
   "metadata": {},
   "outputs": [
    {
     "name": "stdin",
     "output_type": "stream",
     "text": [
      "What is your name?\n",
      " hello\n",
      "Hi hello, I am iTalk. Can I help you?\n",
      " hi\n",
      "Hi hello, I am iTalk. Can I help you?\n",
      " bye\n"
     ]
    },
    {
     "name": "stdout",
     "output_type": "stream",
     "text": [
      "Ok, have a nice day!\n",
      "\n"
     ]
    },
    {
     "name": "stdin",
     "output_type": "stream",
     "text": [
      "What planets have you visited?\n",
      " bye\n"
     ]
    },
    {
     "name": "stdout",
     "output_type": "stream",
     "text": [
      "Okay, have a good day!\n",
      "\n"
     ]
    }
   ],
   "source": [
    "class IOETalk:\n",
    "    #Potential negative responses\n",
    "    negative_responses = (\"no\", \"nope\", \"nah\", \"naw\", \"not a chance\", \"sorry\")\n",
    "    #Exit conversation keyword\n",
    "    exit_commands = (\"bye\", \"goodbye\", \"exit\", \"pause\", \"later\", \"see you again\", \"Tam biet\", \"quit\")\n",
    "    #Random starter question\n",
    "    random_questions = (\n",
    "        \"Hello, Why are you here?\\n\",\n",
    "        \"Xin chao, i'm iTalk!\\n\",\n",
    "        \"Can I help you?\\n\",\n",
    "        \"What planets have you visited?\\n\",\n",
    "        \"What technical do you have on this planet?\\n\",\n",
    "        \"Is there intellipat life on this planet?\\n\"\n",
    "    )\n",
    "    def __init__(self):\n",
    "        self.alienbabble = {\n",
    "            'describe_planet_intent': r'.*\\s*planet.*',  #r'.*\\s*your planet.*' được sử dụng để tìm kiếm bất kỳ câu nào chứa cụm từ \"your planet\"\n",
    "            'answer_why_intent': r'why\\sare.*',\n",
    "            'about_intallipat': r'.*\\s*intellipaat'\n",
    "        }\n",
    "        \n",
    "    def greet(self):\n",
    "        self.name = input(\"What is your name?\\n\")\n",
    "        if self.name in self.exit_commands:\n",
    "            print(\"Ok, have a nice day!\\n\")\n",
    "            return True\n",
    "        elif input(f\"Hi {self.name}, I am iTalk. Can I help you?\\n\") in self.negative_responses:\n",
    "                print(\"Ok, have a nice day!\\n\")\n",
    "        elif input(f\"Hi {self.name}, I am iTalk. Can I help you?\\n\") in self.exit_commands:\n",
    "                print(\"Ok, have a nice day!\\n\")\n",
    "        self.chat()\n",
    "\n",
    "    def make_exit(self, reply):\n",
    "        for command in self.exit_commands:\n",
    "            if reply == command:\n",
    "                print(\"Okay, have a good day!\\n\")\n",
    "                return True\n",
    "\n",
    "    def chat(self): \n",
    "        reply = input(random.choice(self.random_questions)).lower()\n",
    "        while not self.make_exit(reply):\n",
    "            reply = input(self.match_reply(reply))\n",
    "\n",
    "    def match_reply(self, reply):\n",
    "        for key, value in self.alienbabble.items():\n",
    "            intent = key\n",
    "            regex_pattern = value\n",
    "            found_match = re.match(regex_pattern, reply)\n",
    "            if found_match and intent == 'describe_planet_intent':\n",
    "                return self.describe_planet_intent()\n",
    "            elif found_match and intent == 'answer_why_intent':\n",
    "                return self.answer_why_intent()\n",
    "            elif found_match and intent == 'about_intallipat':\n",
    "                return self.about_intallipat()\n",
    "        if not found_match:\n",
    "            return self.no_match_intent()\n",
    "                \n",
    "    def describe_planet_intent(self):\n",
    "        responses = (\"My planet is a utopia of diverse organisms and species. \\n\",\n",
    "                     \"I am from Opidipus, the capital of the ABC. \\n\"\n",
    "                    )\n",
    "        return random.choice(responses)\n",
    "        \n",
    "    def answer_why_intent(self):\n",
    "        responses = (\"I come in peace.\\n\",\n",
    "                    \"I am here to talk to you. \\n\",\n",
    "                    \"I heard you need my help. \\n\")\n",
    "        return random.choice(responses)\n",
    "        \n",
    "    def about_intallipat(self): \n",
    "        responses = (\"Intellipaat is an Indian multinational educational technology company founded by Diwakar Chittora and Shilpi Jain in 2011. \\n\",\n",
    "                    \"Diwakar Chittora and Shilpi Jain founded Intellipaat[12] in June 2011 to meet the growing demand for affordable training in emerging technologies. \\n\",\n",
    "                    \"Intellipaat provides training in over 150 courses in the mentioned technologies such as Data Science,[18] Artificial Intelligence, Machine Learning, Cloud Computing and DevOps,[19][20] Digital Marketing,[21][22] and Programming. It also offers single courses, master’s courses, and PG courses. The duration of the programs range from 2 months - 9 months for certification courses and between 1 - 2 years for degree programs. \\n\")\n",
    "        return random.choice(responses)\n",
    "\n",
    "    def no_match_intent(self):\n",
    "        responses = (\"Please tell me more! \\n\",\n",
    "                    \"Can you tell me more! \\n\",\n",
    "                    \"I dont understand what you talk about, try again! \\n\",\n",
    "                    \"I see. Can you elaborate? \\n\")\n",
    "        return random.choice(responses)\n",
    "\n",
    "AlientBot = IOETalk() \n",
    "AlientBot.greet()  \n",
    "    \n",
    "        "
   ]
  },
  {
   "cell_type": "code",
   "execution_count": 1,
   "id": "25db0d78-88d3-4a0c-be5c-a78f9a4c09f9",
   "metadata": {},
   "outputs": [
    {
     "name": "stdout",
     "output_type": "stream",
     "text": [
      "Reinitialized existing Git repository in C:/Users/admin/VTC ONLINE/.git/\n"
     ]
    }
   ],
   "source": [
    "!git init\n"
   ]
  },
  {
   "cell_type": "code",
   "execution_count": 2,
   "id": "29546609-1915-4823-93b6-904eccaba75d",
   "metadata": {},
   "outputs": [
    {
     "name": "stderr",
     "output_type": "stream",
     "text": [
      "error: remote origin already exists.\n"
     ]
    }
   ],
   "source": [
    "!git remote add origin https://github.com/dinhhuong2002/rule_chatbot.git"
   ]
  },
  {
   "cell_type": "code",
   "execution_count": 9,
   "id": "9e6e46bb-b7e9-4ee0-a3b4-cf7e647b1985",
   "metadata": {},
   "outputs": [
    {
     "name": "stderr",
     "output_type": "stream",
     "text": [
      "warning: in the working copy of 'rule_chatbot.ipynb', LF will be replaced by CRLF the next time Git touches it\n"
     ]
    }
   ],
   "source": [
    "!git add rule_chatbot.ipynb"
   ]
  },
  {
   "cell_type": "code",
   "execution_count": null,
   "id": "d2532eec-39f7-47db-acd4-6479d4722af9",
   "metadata": {},
   "outputs": [],
   "source": [
    "!git commit -m \"add: rule_chatbot fi\""
   ]
  },
  {
   "cell_type": "code",
   "execution_count": null,
   "id": "1f8b74d8-1603-4b4e-90d4-9427c1edaf6b",
   "metadata": {},
   "outputs": [],
   "source": []
  }
 ],
 "metadata": {
  "kernelspec": {
   "display_name": "Python 3 (ipykernel)",
   "language": "python",
   "name": "python3"
  },
  "language_info": {
   "codemirror_mode": {
    "name": "ipython",
    "version": 3
   },
   "file_extension": ".py",
   "mimetype": "text/x-python",
   "name": "python",
   "nbconvert_exporter": "python",
   "pygments_lexer": "ipython3",
   "version": "3.11.7"
  }
 },
 "nbformat": 4,
 "nbformat_minor": 5
}
